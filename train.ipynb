{
 "cells": [
  {
   "cell_type": "code",
   "execution_count": 1,
   "metadata": {},
   "outputs": [
    {
     "name": "stdout",
     "output_type": "stream",
     "text": [
      "Requirement already satisfied: setuptools in /usr/lib/python3/dist-packages (78.0.2)\n",
      "Collecting setuptools\n",
      "  Using cached setuptools-78.1.0-py3-none-any.whl.metadata (6.6 kB)\n",
      "Using cached setuptools-78.1.0-py3-none-any.whl (1.3 MB)\n",
      "Installing collected packages: setuptools\n",
      "  Attempting uninstall: setuptools\n",
      "    Found existing installation: setuptools 78.0.2\n",
      "    Uninstalling setuptools-78.0.2:\n",
      "      Successfully uninstalled setuptools-78.0.2\n",
      "Successfully installed setuptools-78.1.0\n",
      "\u001b[33mWARNING: Running pip as the 'root' user can result in broken permissions and conflicting behaviour with the system package manager, possibly rendering your system unusable. It is recommended to use a virtual environment instead: https://pip.pypa.io/warnings/venv. Use the --root-user-action option if you know what you are doing and want to suppress this warning.\u001b[0m\u001b[33m\n",
      "\u001b[0m"
     ]
    }
   ],
   "source": [
    "!pip install -U setuptools"
   ]
  },
  {
   "cell_type": "code",
   "execution_count": 2,
   "metadata": {},
   "outputs": [],
   "source": [
    "import triton"
   ]
  },
  {
   "cell_type": "code",
   "execution_count": 11,
   "metadata": {},
   "outputs": [
    {
     "data": {
      "text/plain": [
       "3647680"
      ]
     },
     "execution_count": 11,
     "metadata": {},
     "output_type": "execute_result"
    }
   ],
   "source": [
    "from transformers import (\n",
    "    AutoModelForCausalLM,\n",
    "    AutoTokenizer,\n",
    "    AutoConfig,\n",
    ")\n",
    "import transformers\n",
    "\n",
    "from datasets import load_dataset\n",
    "from composer import Trainer    \n",
    "from composer.models import HuggingFaceModel, ComposerModel\n",
    "\n",
    "import torch\n",
    "from torch.utils.data import DataLoader\n",
    "\n",
    "model_name = \"roneneldan/TinyStories-1M\"\n",
    "config = AutoConfig.from_pretrained(model_name)\n",
    "config.max_position_embeddings = 512\n",
    "model = AutoModelForCausalLM.from_config(config, attn_implementation='flash_attention_2', torch_dtype=torch.bfloat16).to('cuda')\n",
    "sum(p.numel() for p in model.parameters() if p.requires_grad)"
   ]
  },
  {
   "cell_type": "code",
   "execution_count": 13,
   "metadata": {},
   "outputs": [],
   "source": [
    "max_vocab_size = 2048"
   ]
  },
  {
   "cell_type": "code",
   "execution_count": 14,
   "metadata": {
    "scrolled": true
   },
   "outputs": [
    {
     "data": {
      "application/vnd.jupyter.widget-view+json": {
       "model_id": "d24dd4b914dd4cc7900d820043b6e5b8",
       "version_major": 2,
       "version_minor": 0
      },
      "text/plain": [
       "README.md:   0%|          | 0.00/1.06k [00:00<?, ?B/s]"
      ]
     },
     "metadata": {},
     "output_type": "display_data"
    },
    {
     "data": {
      "application/vnd.jupyter.widget-view+json": {
       "model_id": "c67880b2a1a045f99075ed422356f552",
       "version_major": 2,
       "version_minor": 0
      },
      "text/plain": [
       "(…)-00000-of-00004-2d5a1467fff1081b.parquet:   0%|          | 0.00/249M [00:00<?, ?B/s]"
      ]
     },
     "metadata": {},
     "output_type": "display_data"
    },
    {
     "data": {
      "application/vnd.jupyter.widget-view+json": {
       "model_id": "d32d61e0040d472c98ea4d205060b6ac",
       "version_major": 2,
       "version_minor": 0
      },
      "text/plain": [
       "(…)-00001-of-00004-5852b56a2bd28fd9.parquet:   0%|          | 0.00/248M [00:00<?, ?B/s]"
      ]
     },
     "metadata": {},
     "output_type": "display_data"
    },
    {
     "data": {
      "application/vnd.jupyter.widget-view+json": {
       "model_id": "d887d5f9f4704716bdde889ea1f9265c",
       "version_major": 2,
       "version_minor": 0
      },
      "text/plain": [
       "(…)-00002-of-00004-a26307300439e943.parquet:   0%|          | 0.00/246M [00:00<?, ?B/s]"
      ]
     },
     "metadata": {},
     "output_type": "display_data"
    },
    {
     "data": {
      "application/vnd.jupyter.widget-view+json": {
       "model_id": "9c08ea3b1c4b4dc69e17ee4f441ab42b",
       "version_major": 2,
       "version_minor": 0
      },
      "text/plain": [
       "(…)-00003-of-00004-d243063613e5a057.parquet:   0%|          | 0.00/248M [00:00<?, ?B/s]"
      ]
     },
     "metadata": {},
     "output_type": "display_data"
    },
    {
     "data": {
      "application/vnd.jupyter.widget-view+json": {
       "model_id": "2b55f67a1ab64d68a62ddbc43b1cb082",
       "version_major": 2,
       "version_minor": 0
      },
      "text/plain": [
       "(…)-00000-of-00001-869c898b519ad725.parquet:   0%|          | 0.00/9.99M [00:00<?, ?B/s]"
      ]
     },
     "metadata": {},
     "output_type": "display_data"
    },
    {
     "data": {
      "application/vnd.jupyter.widget-view+json": {
       "model_id": "47d2d02cbebe4a34a2932893f52ffc6f",
       "version_major": 2,
       "version_minor": 0
      },
      "text/plain": [
       "Generating train split:   0%|          | 0/2119719 [00:00<?, ? examples/s]"
      ]
     },
     "metadata": {},
     "output_type": "display_data"
    },
    {
     "data": {
      "application/vnd.jupyter.widget-view+json": {
       "model_id": "81d486a3c8da463393979409b8d2edc7",
       "version_major": 2,
       "version_minor": 0
      },
      "text/plain": [
       "Generating validation split:   0%|          | 0/21990 [00:00<?, ? examples/s]"
      ]
     },
     "metadata": {},
     "output_type": "display_data"
    }
   ],
   "source": [
    "train_data = load_dataset('roneneldan/TinyStories', split='train').with_format('np')\n",
    "val_data = load_dataset('roneneldan/TinyStories', split='validation').with_format('np')"
   ]
  },
  {
   "cell_type": "code",
   "execution_count": 15,
   "metadata": {},
   "outputs": [],
   "source": [
    "def get_training_corpus():\n",
    "    for start_idx in range(0, len(train_data), 10000):\n",
    "        patch = train_data[start_idx: start_idx+10000]\n",
    "        yield patch['text']\n",
    "        "
   ]
  },
  {
   "cell_type": "code",
   "execution_count": 16,
   "metadata": {},
   "outputs": [
    {
     "data": {
      "application/vnd.jupyter.widget-view+json": {
       "model_id": "cf2a5ffabaa948fd880fec291d38695c",
       "version_major": 2,
       "version_minor": 0
      },
      "text/plain": [
       "tokenizer_config.json:   0%|          | 0.00/722 [00:00<?, ?B/s]"
      ]
     },
     "metadata": {},
     "output_type": "display_data"
    },
    {
     "data": {
      "application/vnd.jupyter.widget-view+json": {
       "model_id": "f24d72ff4282464ab41f15f68a26daf6",
       "version_major": 2,
       "version_minor": 0
      },
      "text/plain": [
       "vocab.json:   0%|          | 0.00/798k [00:00<?, ?B/s]"
      ]
     },
     "metadata": {},
     "output_type": "display_data"
    },
    {
     "data": {
      "application/vnd.jupyter.widget-view+json": {
       "model_id": "23de6ff2194b43baa6305a73fbc5d586",
       "version_major": 2,
       "version_minor": 0
      },
      "text/plain": [
       "merges.txt:   0%|          | 0.00/456k [00:00<?, ?B/s]"
      ]
     },
     "metadata": {},
     "output_type": "display_data"
    },
    {
     "data": {
      "application/vnd.jupyter.widget-view+json": {
       "model_id": "bfe7985ed72d4d149d4e83141115da6c",
       "version_major": 2,
       "version_minor": 0
      },
      "text/plain": [
       "tokenizer.json:   0%|          | 0.00/2.11M [00:00<?, ?B/s]"
      ]
     },
     "metadata": {},
     "output_type": "display_data"
    },
    {
     "data": {
      "application/vnd.jupyter.widget-view+json": {
       "model_id": "cb367a418a21408a910a8a3555436eb4",
       "version_major": 2,
       "version_minor": 0
      },
      "text/plain": [
       "special_tokens_map.json:   0%|          | 0.00/438 [00:00<?, ?B/s]"
      ]
     },
     "metadata": {},
     "output_type": "display_data"
    }
   ],
   "source": [
    "corpus = get_training_corpus()\n",
    "tokenizer = AutoTokenizer.from_pretrained(model_name)"
   ]
  },
  {
   "cell_type": "code",
   "execution_count": 17,
   "metadata": {},
   "outputs": [],
   "source": [
    "# tokenizer = tokenizer.train_new_from_iterator(corpus, vocab_size=max_vocab_size)\n",
    "# tokenizer.save_pretrained(f'./training/tokenizer/{max_vocab_size}')"
   ]
  },
  {
   "cell_type": "code",
   "execution_count": 18,
   "metadata": {},
   "outputs": [],
   "source": [
    "tokenizer = tokenizer.from_pretrained(f'./training/tokenizer/{max_vocab_size}')"
   ]
  },
  {
   "cell_type": "code",
   "execution_count": 19,
   "metadata": {},
   "outputs": [
    {
     "data": {
      "text/plain": [
       "Embedding(2048, 64)"
      ]
     },
     "execution_count": 19,
     "metadata": {},
     "output_type": "execute_result"
    }
   ],
   "source": [
    "model.resize_token_embeddings(tokenizer.vocab_size)"
   ]
  },
  {
   "cell_type": "code",
   "execution_count": 20,
   "metadata": {},
   "outputs": [
    {
     "data": {
      "text/plain": [
       "OptimizedModule(\n",
       "  (_orig_mod): GPTNeoForCausalLM(\n",
       "    (transformer): GPTNeoModel(\n",
       "      (wte): Embedding(2048, 64)\n",
       "      (wpe): Embedding(512, 64)\n",
       "      (drop): Dropout(p=0.0, inplace=False)\n",
       "      (h): ModuleList(\n",
       "        (0-7): 8 x GPTNeoBlock(\n",
       "          (ln_1): LayerNorm((64,), eps=1e-05, elementwise_affine=True)\n",
       "          (attn): GPTNeoAttention(\n",
       "            (attention): GPTNeoFlashAttention2(\n",
       "              (attn_dropout): Dropout(p=0.0, inplace=False)\n",
       "              (resid_dropout): Dropout(p=0.0, inplace=False)\n",
       "              (k_proj): Linear(in_features=64, out_features=64, bias=False)\n",
       "              (v_proj): Linear(in_features=64, out_features=64, bias=False)\n",
       "              (q_proj): Linear(in_features=64, out_features=64, bias=False)\n",
       "              (out_proj): Linear(in_features=64, out_features=64, bias=True)\n",
       "            )\n",
       "          )\n",
       "          (ln_2): LayerNorm((64,), eps=1e-05, elementwise_affine=True)\n",
       "          (mlp): GPTNeoMLP(\n",
       "            (c_fc): Linear(in_features=64, out_features=256, bias=True)\n",
       "            (c_proj): Linear(in_features=256, out_features=64, bias=True)\n",
       "            (act): NewGELUActivation()\n",
       "            (dropout): Dropout(p=0.0, inplace=False)\n",
       "          )\n",
       "        )\n",
       "      )\n",
       "      (ln_f): LayerNorm((64,), eps=1e-05, elementwise_affine=True)\n",
       "    )\n",
       "    (lm_head): Linear(in_features=64, out_features=2048, bias=False)\n",
       "  )\n",
       ")"
      ]
     },
     "execution_count": 20,
     "metadata": {},
     "output_type": "execute_result"
    }
   ],
   "source": [
    "model = torch.compile(model)\n",
    "model"
   ]
  },
  {
   "cell_type": "code",
   "execution_count": 21,
   "metadata": {},
   "outputs": [
    {
     "data": {
      "text/plain": [
       "562304"
      ]
     },
     "execution_count": 21,
     "metadata": {},
     "output_type": "execute_result"
    }
   ],
   "source": [
    "sum(p.numel() for p in model.parameters() if p.requires_grad)"
   ]
  },
  {
   "cell_type": "code",
   "execution_count": 22,
   "metadata": {
    "scrolled": true
   },
   "outputs": [],
   "source": [
    "def tokenize(e):\n",
    "    # return {'tokens': tokenizer.tokenize(e['text'])}\n",
    "    return tokenizer(e['text'], truncation=True, max_length=512, padding='max_length', return_attention_mask=False)\n",
    "\n",
    "tokenizer.pad_token = tokenizer.eos_token\n",
    "# tok_train = train_data.map(tokenize, remove_columns=['text'], num_proc=8)\n",
    "# tok_val  = val_data.select(range(1000)).map(tokenize, remove_columns=['text'], num_proc=8)"
   ]
  },
  {
   "cell_type": "code",
   "execution_count": 23,
   "metadata": {},
   "outputs": [
    {
     "data": {
      "text/plain": [
       "(['Ġadventures',\n",
       "  'Ġremembered',\n",
       "  '<|endoftext|>',\n",
       "  'Ġeverywhere',\n",
       "  'Ġunderstand',\n",
       "  'Ġeverything'],\n",
       " 10,\n",
       " [1906, 1405, 0, 1757, 1454, 1601])"
      ]
     },
     "execution_count": 23,
     "metadata": {},
     "output_type": "execute_result"
    }
   ],
   "source": [
    "max_len = 10\n",
    "max_pos = []\n",
    "max_token = []\n",
    "for k, v in tokenizer.vocab.items():\n",
    "    if len(k) > max_len:\n",
    "        max_pos.append(v)\n",
    "        max_token.append(k)\n",
    "\n",
    "max_token, max_len, max_pos"
   ]
  },
  {
   "cell_type": "code",
   "execution_count": 14,
   "metadata": {},
   "outputs": [],
   "source": [
    "# !rm -rf ./datasets/tinystories/2048"
   ]
  },
  {
   "cell_type": "code",
   "execution_count": 24,
   "metadata": {},
   "outputs": [],
   "source": [
    "from streaming import MDSWriter\n",
    "import numpy as np\n",
    "\n",
    "out_root = f'./datasets/tinystories/{tokenizer.vocab_size}/'\n",
    "out_train = out_root + 'train/'\n",
    "out_val = out_root + 'val/'\n",
    "\n",
    "columns = {\n",
    "    'input_ids': 'ndarray:int32',\n",
    "    # 'attention_mask': 'ndarray:int64',\n",
    "}\n",
    "# with MDSWriter(out=out_train, columns=columns, compression='zstd') as writer:\n",
    "#     for sample in tok_train:\n",
    "#         sample['input_ids'] = sample['input_ids'].astype(np.int32)\n",
    "#         writer.write(sample)\n",
    "\n",
    "# with MDSWriter(out=out_val, columns=columns, compression='zstd') as writer:\n",
    "#     for sample in tok_val:\n",
    "#         sample['input_ids'] = sample['input_ids'].astype(np.int32)\n",
    "#         writer.write(sample)"
   ]
  },
  {
   "cell_type": "code",
   "execution_count": 25,
   "metadata": {},
   "outputs": [],
   "source": [
    "from streaming import StreamingDataset\n",
    "bs = 128\n",
    "tok_train = StreamingDataset(local=out_train, shuffle=True, shuffle_seed=42, batch_size=bs)\n",
    "tok_val = StreamingDataset(local=out_val, batch_size=bs)"
   ]
  },
  {
   "cell_type": "code",
   "execution_count": 26,
   "metadata": {},
   "outputs": [
    {
     "data": {
      "text/plain": [
       "dict_keys(['input_ids'])"
      ]
     },
     "execution_count": 26,
     "metadata": {},
     "output_type": "execute_result"
    }
   ],
   "source": [
    "tok_train[0].keys()"
   ]
  },
  {
   "cell_type": "code",
   "execution_count": 28,
   "metadata": {},
   "outputs": [
    {
     "data": {
      "text/plain": [
       "2119719"
      ]
     },
     "execution_count": 28,
     "metadata": {},
     "output_type": "execute_result"
    }
   ],
   "source": [
    "len(tok_train)"
   ]
  },
  {
   "cell_type": "code",
   "execution_count": 34,
   "metadata": {},
   "outputs": [
    {
     "data": {
      "text/plain": [
       "1168391"
      ]
     },
     "execution_count": 34,
     "metadata": {},
     "output_type": "execute_result"
    }
   ],
   "source": [
    "len(tok_train) - count"
   ]
  },
  {
   "cell_type": "code",
   "execution_count": 36,
   "metadata": {},
   "outputs": [
    {
     "data": {
      "text/plain": [
       "100786"
      ]
     },
     "execution_count": 36,
     "metadata": {},
     "output_type": "execute_result"
    }
   ],
   "source": [
    "count = 0\n",
    "for ex in tok_train[:len(tok_train)]:\n",
    "    if 0 not in ex['input_ids']:\n",
    "        count +=1 \n",
    "\n",
    "count"
   ]
  },
  {
   "cell_type": "code",
   "execution_count": 18,
   "metadata": {},
   "outputs": [],
   "source": [
    "def collate_fn(batch):\n",
    "    input_ids = torch.stack([torch.tensor(e['input_ids']).to('cuda').to(torch.int64) for e in batch])\n",
    "    # masks = torch.stack([torch.tensor(e['attention_mask']).to('cuda') for e in batch])\n",
    "    labels = torch.stack([torch.tensor(e['input_ids']).to('cuda').to(torch.int64) for e in batch])\n",
    "    return {\n",
    "        'input_ids': input_ids,\n",
    "        # 'attention_mask': masks,\n",
    "        'labels': labels,\n",
    "        # 'inputs_embeds': None\n",
    "    }"
   ]
  },
  {
   "cell_type": "code",
   "execution_count": 19,
   "metadata": {},
   "outputs": [],
   "source": [
    "collator = collate_fn\n",
    "\n",
    "torch.random.manual_seed(42)\n",
    "dl_train = DataLoader(tok_train, batch_size=bs, collate_fn=collator)\n",
    "dl_val = DataLoader(tok_val, batch_size=bs, shuffle=False, collate_fn=collator)"
   ]
  },
  {
   "cell_type": "code",
   "execution_count": 20,
   "metadata": {},
   "outputs": [
    {
     "data": {
      "text/plain": [
       "16561"
      ]
     },
     "execution_count": 20,
     "metadata": {},
     "output_type": "execute_result"
    }
   ],
   "source": [
    "len(dl_train)"
   ]
  },
  {
   "cell_type": "code",
   "execution_count": 21,
   "metadata": {},
   "outputs": [],
   "source": [
    "class MyModel(HuggingFaceModel):\n",
    "    def __init__(self, model, tokenizer, metrics=[], use_logits=False):\n",
    "        super().__init__(model, tokenizer, metrics=metrics, use_logits=use_logits)\n",
    "\n",
    "    def forward(self, batch):\n",
    "        return self.model(**batch)\n",
    "    \n",
    "    def loss(self, outputs, batch):\n",
    "        return outputs.loss"
   ]
  },
  {
   "cell_type": "code",
   "execution_count": null,
   "metadata": {},
   "outputs": [],
   "source": []
  },
  {
   "cell_type": "code",
   "execution_count": 22,
   "metadata": {},
   "outputs": [],
   "source": [
    "batch = next(iter(dl_train))"
   ]
  },
  {
   "cell_type": "code",
   "execution_count": 23,
   "metadata": {
    "scrolled": true
   },
   "outputs": [
    {
     "data": {
      "text/plain": [
       "['Tim and Sue are friends who live on a farm. They like to play with the animals in the barn. One day, they see a big truck coming to the farm. The truck has many boxes and tools.\\n\\n\"What is that?\" Tim asks.\\n\\n\"I don\\'t know. Let\\'s go and see,\" Sue says.\\n\\nThey run to the truck and see a man talking to Tim\\'s dad. The man says he is here to make the barn bigger. He says he will increase the size of the barn and add more rooms for the animals.\\n\\n\"Why do you need a bigger barn?\" Sue asks.\\n\\n\"Because we have more animals now. We have cows, pigs, chickens, horses, and sheep. They need more space and comfort,\" Tim\\'s dad says.\\n\\n\"Can we help you?\" Tim asks.\\n\\n\"Sure, you can help me by staying out of the way and being careful. This work is harsh and dangerous. You don\\'t want to get hurt by the tools or the boxes,\" the man says.\\n\\n\"OK, we will be careful. Can we watch you work?\" Sue asks.\\n\\n\"Yes, you can watch from a safe distance. But don\\'t touch anything, OK?\" the man says.\\n\\n\"OK, we won\\'t touch anything. We just want to see the barn grow,\" Tim says.\\n\\nTim and Sue sit on a hill and watch the man work. They see him cut the wood, hammer the nails, and paint the walls. They see the barn increase and become bigger and nicer. They are happy for the animals and for their farm. They can\\'t wait to play in the new barn.<|endoftext|><|endoftext|><|endoftext|><|endoftext|><|endoftext|><|endoftext|><|endoftext|><|endoftext|><|endoftext|><|endoftext|><|endoftext|><|endoftext|><|endoftext|><|endoftext|><|endoftext|><|endoftext|><|endoftext|><|endoftext|><|endoftext|><|endoftext|><|endoftext|><|endoftext|><|endoftext|><|endoftext|><|endoftext|><|endoftext|><|endoftext|><|endoftext|><|endoftext|><|endoftext|><|endoftext|><|endoftext|><|endoftext|><|endoftext|><|endoftext|><|endoftext|><|endoftext|><|endoftext|><|endoftext|><|endoftext|><|endoftext|><|endoftext|><|endoftext|><|endoftext|><|endoftext|><|endoftext|><|endoftext|><|endoftext|><|endoftext|><|endoftext|><|endoftext|><|endoftext|><|endoftext|><|endoftext|><|endoftext|><|endoftext|><|endoftext|><|endoftext|><|endoftext|><|endoftext|><|endoftext|><|endoftext|><|endoftext|><|endoftext|><|endoftext|><|endoftext|><|endoftext|><|endoftext|><|endoftext|><|endoftext|><|endoftext|><|endoftext|><|endoftext|><|endoftext|><|endoftext|><|endoftext|><|endoftext|><|endoftext|><|endoftext|><|endoftext|><|endoftext|><|endoftext|><|endoftext|><|endoftext|><|endoftext|><|endoftext|><|endoftext|><|endoftext|><|endoftext|><|endoftext|><|endoftext|><|endoftext|><|endoftext|><|endoftext|><|endoftext|><|endoftext|><|endoftext|><|endoftext|><|endoftext|><|endoftext|><|endoftext|><|endoftext|><|endoftext|><|endoftext|><|endoftext|><|endoftext|><|endoftext|><|endoftext|><|endoftext|><|endoftext|><|endoftext|>',\n",
       " 'The sun was shining and the sky was a bright blue. Little Jack was out in the garden with his toy horse. He was so excited because it was a lovely day. \\n\\nSuddenly Jack saw a big beautiful horse that had come out into the field from the woods. He couldn\\'t believe it! He ran over to get a closer look. \\n\\nJack said to the horse, \"Where did you come from?\"\\n\\nThe horse said, \"I just sprang out of the woods when I saw the sun shining. It was too wet and cold in there!\" \\n\\nThen the horse said goodbye and started to trot away. \\n\\nJack was sad to see the horse go and he ran back to the garden, shouting, \"Bye, bye, horse!\"<|endoftext|><|endoftext|><|endoftext|><|endoftext|><|endoftext|><|endoftext|><|endoftext|><|endoftext|><|endoftext|><|endoftext|><|endoftext|><|endoftext|><|endoftext|><|endoftext|><|endoftext|><|endoftext|><|endoftext|><|endoftext|><|endoftext|><|endoftext|><|endoftext|><|endoftext|><|endoftext|><|endoftext|><|endoftext|><|endoftext|><|endoftext|><|endoftext|><|endoftext|><|endoftext|><|endoftext|><|endoftext|><|endoftext|><|endoftext|><|endoftext|><|endoftext|><|endoftext|><|endoftext|><|endoftext|><|endoftext|><|endoftext|><|endoftext|><|endoftext|><|endoftext|><|endoftext|><|endoftext|><|endoftext|><|endoftext|><|endoftext|><|endoftext|><|endoftext|><|endoftext|><|endoftext|><|endoftext|><|endoftext|><|endoftext|><|endoftext|><|endoftext|><|endoftext|><|endoftext|><|endoftext|><|endoftext|><|endoftext|><|endoftext|><|endoftext|><|endoftext|><|endoftext|><|endoftext|><|endoftext|><|endoftext|><|endoftext|><|endoftext|><|endoftext|><|endoftext|><|endoftext|><|endoftext|><|endoftext|><|endoftext|><|endoftext|><|endoftext|><|endoftext|><|endoftext|><|endoftext|><|endoftext|><|endoftext|><|endoftext|><|endoftext|><|endoftext|><|endoftext|><|endoftext|><|endoftext|><|endoftext|><|endoftext|><|endoftext|><|endoftext|><|endoftext|><|endoftext|><|endoftext|><|endoftext|><|endoftext|><|endoftext|><|endoftext|><|endoftext|><|endoftext|><|endoftext|><|endoftext|><|endoftext|><|endoftext|><|endoftext|><|endoftext|><|endoftext|><|endoftext|><|endoftext|><|endoftext|><|endoftext|><|endoftext|><|endoftext|><|endoftext|><|endoftext|><|endoftext|><|endoftext|><|endoftext|><|endoftext|><|endoftext|><|endoftext|><|endoftext|><|endoftext|><|endoftext|><|endoftext|><|endoftext|><|endoftext|><|endoftext|><|endoftext|><|endoftext|><|endoftext|><|endoftext|><|endoftext|><|endoftext|><|endoftext|><|endoftext|><|endoftext|><|endoftext|><|endoftext|><|endoftext|><|endoftext|><|endoftext|><|endoftext|><|endoftext|><|endoftext|><|endoftext|><|endoftext|><|endoftext|><|endoftext|><|endoftext|><|endoftext|><|endoftext|><|endoftext|><|endoftext|><|endoftext|><|endoftext|><|endoftext|><|endoftext|><|endoftext|><|endoftext|><|endoftext|><|endoftext|><|endoftext|><|endoftext|><|endoftext|><|endoftext|><|endoftext|><|endoftext|><|endoftext|><|endoftext|><|endoftext|><|endoftext|><|endoftext|><|endoftext|><|endoftext|><|endoftext|><|endoftext|><|endoftext|><|endoftext|><|endoftext|><|endoftext|><|endoftext|><|endoftext|><|endoftext|><|endoftext|><|endoftext|><|endoftext|><|endoftext|><|endoftext|><|endoftext|><|endoftext|><|endoftext|><|endoftext|><|endoftext|><|endoftext|><|endoftext|><|endoftext|><|endoftext|><|endoftext|><|endoftext|><|endoftext|><|endoftext|><|endoftext|><|endoftext|><|endoftext|><|endoftext|><|endoftext|><|endoftext|><|endoftext|><|endoftext|><|endoftext|><|endoftext|><|endoftext|><|endoftext|><|endoftext|><|endoftext|><|endoftext|><|endoftext|><|endoftext|><|endoftext|><|endoftext|><|endoftext|><|endoftext|><|endoftext|><|endoftext|><|endoftext|><|endoftext|><|endoftext|><|endoftext|><|endoftext|><|endoftext|><|endoftext|><|endoftext|><|endoftext|><|endoftext|><|endoftext|><|endoftext|><|endoftext|><|endoftext|><|endoftext|><|endoftext|><|endoftext|><|endoftext|><|endoftext|><|endoftext|><|endoftext|><|endoftext|><|endoftext|><|endoftext|><|endoftext|><|endoftext|><|endoftext|><|endoftext|><|endoftext|><|endoftext|><|endoftext|><|endoftext|><|endoftext|><|endoftext|><|endoftext|><|endoftext|><|endoftext|><|endoftext|><|endoftext|><|endoftext|><|endoftext|><|endoftext|><|endoftext|><|endoftext|><|endoftext|><|endoftext|><|endoftext|><|endoftext|><|endoftext|><|endoftext|><|endoftext|><|endoftext|><|endoftext|><|endoftext|><|endoftext|><|endoftext|><|endoftext|><|endoftext|><|endoftext|><|endoftext|><|endoftext|><|endoftext|><|endoftext|><|endoftext|><|endoftext|><|endoftext|><|endoftext|><|endoftext|><|endoftext|><|endoftext|><|endoftext|><|endoftext|><|endoftext|><|endoftext|><|endoftext|><|endoftext|><|endoftext|><|endoftext|><|endoftext|><|endoftext|><|endoftext|><|endoftext|><|endoftext|><|endoftext|><|endoftext|><|endoftext|><|endoftext|><|endoftext|><|endoftext|><|endoftext|><|endoftext|><|endoftext|><|endoftext|><|endoftext|><|endoftext|><|endoftext|><|endoftext|><|endoftext|><|endoftext|><|endoftext|><|endoftext|><|endoftext|><|endoftext|>']"
      ]
     },
     "execution_count": 23,
     "metadata": {},
     "output_type": "execute_result"
    }
   ],
   "source": [
    "tokenizer.batch_decode(batch['input_ids'][:2])"
   ]
  },
  {
   "cell_type": "code",
   "execution_count": 24,
   "metadata": {},
   "outputs": [],
   "source": [
    "from torchmetrics.classification import MulticlassAccuracy\n",
    "from composer.models.huggingface import HuggingFaceModel\n",
    "from composer.metrics import CrossEntropy, MaskedAccuracy, LanguageCrossEntropy\n",
    "\n",
    "metrics = [MaskedAccuracy(ignore_index=0)]\n",
    "# Package as a trainer-friendly Composer model\n",
    "my_model = MyModel(model, tokenizer, metrics=metrics, use_logits=True)"
   ]
  },
  {
   "cell_type": "code",
   "execution_count": 25,
   "metadata": {},
   "outputs": [
    {
     "name": "stderr",
     "output_type": "stream",
     "text": [
      "/usr/lib/python3/dist-packages/composer/core/evaluator.py:147: UserWarning: Setting `device_eval_microbatch_size='auto'` is an experimental feature which may cause uncaught Cuda Out of Memory errors. In this case, please manually set device_eval_microbatch_size explicitly to an integer instead.\n",
      "  warnings.warn((\n"
     ]
    }
   ],
   "source": [
    "from composer import Evaluator\n",
    "eval_evaluator = Evaluator(\n",
    "    label='acc',\n",
    "    dataloader=dl_val,\n",
    "    metric_names=['LanguageCrossEntropy', 'MaskedAccuracy'],\n",
    "    device_eval_microbatch_size='auto'\n",
    ")"
   ]
  },
  {
   "cell_type": "code",
   "execution_count": 26,
   "metadata": {},
   "outputs": [
    {
     "name": "stderr",
     "output_type": "stream",
     "text": [
      "/usr/lib/python3/dist-packages/composer/trainer/trainer.py:247: UserWarning: `device_train_microbatch_size='auto'` may potentially fail with unexpected CUDA errors. Auto microbatching attempts to catch CUDA Out of Memory errors and adjust the batch size, but it is possible CUDA will be put into an irrecoverable state due to PyTorch bugs, e.g. integer overflow. In this case, please manually set device_train_microbatch_size explicitly to an integer instead.\n",
      "  warnings.warn((\n"
     ]
    }
   ],
   "source": [
    "from composer.optim import DecoupledAdamW, CosineAnnealingWithWarmupScheduler\n",
    "from composer.loggers import InMemoryLogger\n",
    "from composer.metrics import MaskedAccuracy\n",
    "\n",
    "optim = DecoupledAdamW(my_model.parameters(), lr=2e-4, weight_decay=0.0001)\n",
    "lr_scheduler = CosineAnnealingWithWarmupScheduler(t_warmup='200ba', t_max=\"1dur\")\n",
    "\n",
    "logger = InMemoryLogger()\n",
    "\n",
    "trainer = Trainer(\n",
    "    model=my_model,\n",
    "    train_dataloader=dl_train, \n",
    "    eval_dataloader=dl_val,\n",
    "    optimizers=optim,\n",
    "    schedulers=lr_scheduler,\n",
    "    max_duration=\"100ba\",\n",
    "    eval_interval='1ba',\n",
    "    save_folder=\"training/pretrain/33M/\" + str(optim.param_groups[0]['lr']),\n",
    "    save_interval=\"5000ba\",\n",
    "    # save_filename=\"hf_model.pt\",\n",
    "    save_overwrite=True,\n",
    "    device_train_microbatch_size='auto',\n",
    "    loggers=logger,\n",
    "    device='gpu',\n",
    "    precision='amp_bf16',\n",
    ")"
   ]
  },
  {
   "cell_type": "code",
   "execution_count": 27,
   "metadata": {},
   "outputs": [
    {
     "name": "stderr",
     "output_type": "stream",
     "text": [
      "******************************\n",
      "Config:\n",
      "composer_commit_hash: None\n",
      "composer_version: 0.30.0\n",
      "node_name: unknown because NODENAME environment variable not set\n",
      "num_gpus_per_node: 1\n",
      "num_nodes: 1\n",
      "rank_zero_seed: 3475228174\n",
      "\n",
      "******************************\n"
     ]
    },
    {
     "data": {
      "application/vnd.jupyter.widget-view+json": {
       "model_id": "eb7fac587fcf49b489e5965dd5e4a688",
       "version_major": 2,
       "version_minor": 0
      },
      "text/plain": [
       "train                           0%|| 0/100 [00:00<?, ?ba/s]         "
      ]
     },
     "metadata": {},
     "output_type": "display_data"
    },
    {
     "name": "stderr",
     "output_type": "stream",
     "text": [
      "W0414 15:57:20.695000 3864 torch/_inductor/utils.py:1137] [0/0] Not enough SMs to use max_autotune_gemm mode\n"
     ]
    },
    {
     "data": {
      "application/vnd.jupyter.widget-view+json": {
       "model_id": "0017a48079d7404b93943ceef020bc0c",
       "version_major": 2,
       "version_minor": 0
      },
      "text/plain": [
       "eval           Batch      1:    0%|| 0/8 [00:00<?, ?ba/s]         "
      ]
     },
     "metadata": {},
     "output_type": "display_data"
    },
    {
     "name": "stderr",
     "output_type": "stream",
     "text": [
      "/usr/lib/python3/dist-packages/composer/core/data_spec.py:40: UserWarning: Cannot split tensor of length 104 into batches of size 128. As it is smaller, no splitting will be done. This may happen on the last batch of a dataset if it is a smaller size than the microbatch size.\n",
      "  warnings.warn(\n"
     ]
    },
    {
     "data": {
      "application/vnd.jupyter.widget-view+json": {
       "model_id": "2868ef58a59b4680b05570d6815f4aee",
       "version_major": 2,
       "version_minor": 0
      },
      "text/plain": [
       "eval           Batch      2:    0%|| 0/8 [00:00<?, ?ba/s]         "
      ]
     },
     "metadata": {},
     "output_type": "display_data"
    },
    {
     "name": "stderr",
     "output_type": "stream",
     "text": [
      "/usr/lib/python3/dist-packages/composer/core/data_spec.py:40: UserWarning: Cannot split tensor of length 104 into batches of size 128. As it is smaller, no splitting will be done. This may happen on the last batch of a dataset if it is a smaller size than the microbatch size.\n",
      "  warnings.warn(\n"
     ]
    },
    {
     "data": {
      "application/vnd.jupyter.widget-view+json": {
       "model_id": "39c80cda068c47038b45035b786fc110",
       "version_major": 2,
       "version_minor": 0
      },
      "text/plain": [
       "eval           Batch      3:    0%|| 0/8 [00:00<?, ?ba/s]         "
      ]
     },
     "metadata": {},
     "output_type": "display_data"
    },
    {
     "data": {
      "application/vnd.jupyter.widget-view+json": {
       "model_id": "f1305ecb133a487dbbe81dac81edfb17",
       "version_major": 2,
       "version_minor": 0
      },
      "text/plain": [
       "eval           Batch      4:    0%|| 0/8 [00:00<?, ?ba/s]         "
      ]
     },
     "metadata": {},
     "output_type": "display_data"
    },
    {
     "data": {
      "application/vnd.jupyter.widget-view+json": {
       "model_id": "d94840b26873478a848e61128af5b8ff",
       "version_major": 2,
       "version_minor": 0
      },
      "text/plain": [
       "eval           Batch      5:    0%|| 0/8 [00:00<?, ?ba/s]         "
      ]
     },
     "metadata": {},
     "output_type": "display_data"
    },
    {
     "data": {
      "application/vnd.jupyter.widget-view+json": {
       "model_id": "2a4f6f5208964ae3823e208315bff288",
       "version_major": 2,
       "version_minor": 0
      },
      "text/plain": [
       "eval           Batch      6:    0%|| 0/8 [00:00<?, ?ba/s]         "
      ]
     },
     "metadata": {},
     "output_type": "display_data"
    },
    {
     "data": {
      "application/vnd.jupyter.widget-view+json": {
       "model_id": "ed56cc41f65f4b299a93eb345308ad93",
       "version_major": 2,
       "version_minor": 0
      },
      "text/plain": [
       "eval           Batch      7:    0%|| 0/8 [00:00<?, ?ba/s]         "
      ]
     },
     "metadata": {},
     "output_type": "display_data"
    },
    {
     "data": {
      "application/vnd.jupyter.widget-view+json": {
       "model_id": "0baab41eb1fd42159cd88d12a07d8779",
       "version_major": 2,
       "version_minor": 0
      },
      "text/plain": [
       "eval           Batch      8:    0%|| 0/8 [00:00<?, ?ba/s]         "
      ]
     },
     "metadata": {},
     "output_type": "display_data"
    },
    {
     "data": {
      "application/vnd.jupyter.widget-view+json": {
       "model_id": "17b3d8b6e20d45bf99845e60c8288c0e",
       "version_major": 2,
       "version_minor": 0
      },
      "text/plain": [
       "eval           Batch      9:    0%|| 0/8 [00:00<?, ?ba/s]         "
      ]
     },
     "metadata": {},
     "output_type": "display_data"
    },
    {
     "data": {
      "application/vnd.jupyter.widget-view+json": {
       "model_id": "e545c7aafcc74b6bb6a12c7f3439124e",
       "version_major": 2,
       "version_minor": 0
      },
      "text/plain": [
       "eval           Batch     10:    0%|| 0/8 [00:00<?, ?ba/s]         "
      ]
     },
     "metadata": {},
     "output_type": "display_data"
    },
    {
     "data": {
      "application/vnd.jupyter.widget-view+json": {
       "model_id": "43e3043a8c24406d85b4d7ea23e94b6e",
       "version_major": 2,
       "version_minor": 0
      },
      "text/plain": [
       "eval           Batch     11:    0%|| 0/8 [00:00<?, ?ba/s]         "
      ]
     },
     "metadata": {},
     "output_type": "display_data"
    },
    {
     "data": {
      "application/vnd.jupyter.widget-view+json": {
       "model_id": "6a9b0cb9d1ef4baaa3c63fc3c16746be",
       "version_major": 2,
       "version_minor": 0
      },
      "text/plain": [
       "eval           Batch     12:    0%|| 0/8 [00:00<?, ?ba/s]         "
      ]
     },
     "metadata": {},
     "output_type": "display_data"
    },
    {
     "data": {
      "application/vnd.jupyter.widget-view+json": {
       "model_id": "01e03cfaf0924dbaac4a526acdb6de28",
       "version_major": 2,
       "version_minor": 0
      },
      "text/plain": [
       "eval           Batch     13:    0%|| 0/8 [00:00<?, ?ba/s]         "
      ]
     },
     "metadata": {},
     "output_type": "display_data"
    },
    {
     "data": {
      "application/vnd.jupyter.widget-view+json": {
       "model_id": "45ca56c82dc84a2e8c6a080829919e9c",
       "version_major": 2,
       "version_minor": 0
      },
      "text/plain": [
       "eval           Batch     14:    0%|| 0/8 [00:00<?, ?ba/s]         "
      ]
     },
     "metadata": {},
     "output_type": "display_data"
    },
    {
     "data": {
      "application/vnd.jupyter.widget-view+json": {
       "model_id": "577255506dfe4c2d983429b982ad2d67",
       "version_major": 2,
       "version_minor": 0
      },
      "text/plain": [
       "eval           Batch     15:    0%|| 0/8 [00:00<?, ?ba/s]         "
      ]
     },
     "metadata": {},
     "output_type": "display_data"
    },
    {
     "data": {
      "application/vnd.jupyter.widget-view+json": {
       "model_id": "ed9c64eb683e4581b77b361a13bbddd7",
       "version_major": 2,
       "version_minor": 0
      },
      "text/plain": [
       "eval           Batch     16:    0%|| 0/8 [00:00<?, ?ba/s]         "
      ]
     },
     "metadata": {},
     "output_type": "display_data"
    },
    {
     "data": {
      "application/vnd.jupyter.widget-view+json": {
       "model_id": "0492ff8204394b7ba9aa5817b889ae47",
       "version_major": 2,
       "version_minor": 0
      },
      "text/plain": [
       "eval           Batch     17:    0%|| 0/8 [00:00<?, ?ba/s]         "
      ]
     },
     "metadata": {},
     "output_type": "display_data"
    },
    {
     "data": {
      "application/vnd.jupyter.widget-view+json": {
       "model_id": "9ab165dc3cf342fe9126f454cbcebbaf",
       "version_major": 2,
       "version_minor": 0
      },
      "text/plain": [
       "eval           Batch     18:    0%|| 0/8 [00:00<?, ?ba/s]         "
      ]
     },
     "metadata": {},
     "output_type": "display_data"
    },
    {
     "data": {
      "application/vnd.jupyter.widget-view+json": {
       "model_id": "0d0df23c5ddb41438059cea184a7073b",
       "version_major": 2,
       "version_minor": 0
      },
      "text/plain": [
       "eval           Batch     19:    0%|| 0/8 [00:00<?, ?ba/s]         "
      ]
     },
     "metadata": {},
     "output_type": "display_data"
    },
    {
     "data": {
      "application/vnd.jupyter.widget-view+json": {
       "model_id": "56c8dfb7c5974766a8fcb9d69b3bee98",
       "version_major": 2,
       "version_minor": 0
      },
      "text/plain": [
       "eval           Batch     20:    0%|| 0/8 [00:00<?, ?ba/s]         "
      ]
     },
     "metadata": {},
     "output_type": "display_data"
    },
    {
     "data": {
      "application/vnd.jupyter.widget-view+json": {
       "model_id": "14120358acaf44bd9ecd2d624ff020b7",
       "version_major": 2,
       "version_minor": 0
      },
      "text/plain": [
       "eval           Batch     21:    0%|| 0/8 [00:00<?, ?ba/s]         "
      ]
     },
     "metadata": {},
     "output_type": "display_data"
    },
    {
     "data": {
      "application/vnd.jupyter.widget-view+json": {
       "model_id": "a58dfaf9717448c385f09007293f4291",
       "version_major": 2,
       "version_minor": 0
      },
      "text/plain": [
       "eval           Batch     22:    0%|| 0/8 [00:00<?, ?ba/s]         "
      ]
     },
     "metadata": {},
     "output_type": "display_data"
    },
    {
     "data": {
      "application/vnd.jupyter.widget-view+json": {
       "model_id": "a9451cf09c9f4436b0021a1648c695a4",
       "version_major": 2,
       "version_minor": 0
      },
      "text/plain": [
       "eval           Batch     23:    0%|| 0/8 [00:00<?, ?ba/s]         "
      ]
     },
     "metadata": {},
     "output_type": "display_data"
    },
    {
     "data": {
      "application/vnd.jupyter.widget-view+json": {
       "model_id": "3794122b8fe046e2835a04bab91c99b2",
       "version_major": 2,
       "version_minor": 0
      },
      "text/plain": [
       "eval           Batch     24:    0%|| 0/8 [00:00<?, ?ba/s]         "
      ]
     },
     "metadata": {},
     "output_type": "display_data"
    },
    {
     "data": {
      "application/vnd.jupyter.widget-view+json": {
       "model_id": "b6de112dc0fa4c04b6f24dd99a8e4e01",
       "version_major": 2,
       "version_minor": 0
      },
      "text/plain": [
       "eval           Batch     25:    0%|| 0/8 [00:00<?, ?ba/s]         "
      ]
     },
     "metadata": {},
     "output_type": "display_data"
    },
    {
     "data": {
      "application/vnd.jupyter.widget-view+json": {
       "model_id": "4127fe993b3c443eaad355df3a3d2787",
       "version_major": 2,
       "version_minor": 0
      },
      "text/plain": [
       "eval           Batch     26:    0%|| 0/8 [00:00<?, ?ba/s]         "
      ]
     },
     "metadata": {},
     "output_type": "display_data"
    },
    {
     "data": {
      "application/vnd.jupyter.widget-view+json": {
       "model_id": "094524483e7a4d9b942844b3c9d17c7a",
       "version_major": 2,
       "version_minor": 0
      },
      "text/plain": [
       "eval           Batch     27:    0%|| 0/8 [00:00<?, ?ba/s]         "
      ]
     },
     "metadata": {},
     "output_type": "display_data"
    },
    {
     "data": {
      "application/vnd.jupyter.widget-view+json": {
       "model_id": "87587efba65f4d9897ff2b466cc253ec",
       "version_major": 2,
       "version_minor": 0
      },
      "text/plain": [
       "eval           Batch     28:    0%|| 0/8 [00:00<?, ?ba/s]         "
      ]
     },
     "metadata": {},
     "output_type": "display_data"
    },
    {
     "data": {
      "application/vnd.jupyter.widget-view+json": {
       "model_id": "88f0423610db438ba532f6908cb84f7b",
       "version_major": 2,
       "version_minor": 0
      },
      "text/plain": [
       "eval           Batch     29:    0%|| 0/8 [00:00<?, ?ba/s]         "
      ]
     },
     "metadata": {},
     "output_type": "display_data"
    },
    {
     "data": {
      "application/vnd.jupyter.widget-view+json": {
       "model_id": "24caf1e7e785403fa10e7e93c441cdaa",
       "version_major": 2,
       "version_minor": 0
      },
      "text/plain": [
       "eval           Batch     30:    0%|| 0/8 [00:00<?, ?ba/s]         "
      ]
     },
     "metadata": {},
     "output_type": "display_data"
    },
    {
     "data": {
      "application/vnd.jupyter.widget-view+json": {
       "model_id": "0f519c048ae14734962ae61628955de4",
       "version_major": 2,
       "version_minor": 0
      },
      "text/plain": [
       "eval           Batch     31:    0%|| 0/8 [00:00<?, ?ba/s]         "
      ]
     },
     "metadata": {},
     "output_type": "display_data"
    },
    {
     "data": {
      "application/vnd.jupyter.widget-view+json": {
       "model_id": "ac765bcf807642d2b0f2ebf117d69203",
       "version_major": 2,
       "version_minor": 0
      },
      "text/plain": [
       "eval           Batch     32:    0%|| 0/8 [00:00<?, ?ba/s]         "
      ]
     },
     "metadata": {},
     "output_type": "display_data"
    },
    {
     "data": {
      "application/vnd.jupyter.widget-view+json": {
       "model_id": "5d4cad4feec6452da43d524a2b7151e3",
       "version_major": 2,
       "version_minor": 0
      },
      "text/plain": [
       "eval           Batch     33:    0%|| 0/8 [00:00<?, ?ba/s]         "
      ]
     },
     "metadata": {},
     "output_type": "display_data"
    },
    {
     "data": {
      "application/vnd.jupyter.widget-view+json": {
       "model_id": "8fcf8b442df744deb533565745c75fd7",
       "version_major": 2,
       "version_minor": 0
      },
      "text/plain": [
       "eval           Batch     34:    0%|| 0/8 [00:00<?, ?ba/s]         "
      ]
     },
     "metadata": {},
     "output_type": "display_data"
    },
    {
     "data": {
      "application/vnd.jupyter.widget-view+json": {
       "model_id": "3e355d0b3ecf458aabbe7b5c22d5cf7e",
       "version_major": 2,
       "version_minor": 0
      },
      "text/plain": [
       "eval           Batch     35:    0%|| 0/8 [00:00<?, ?ba/s]         "
      ]
     },
     "metadata": {},
     "output_type": "display_data"
    },
    {
     "data": {
      "application/vnd.jupyter.widget-view+json": {
       "model_id": "a8cc7b825ae843aaaae0906641d88dce",
       "version_major": 2,
       "version_minor": 0
      },
      "text/plain": [
       "eval           Batch     36:    0%|| 0/8 [00:00<?, ?ba/s]         "
      ]
     },
     "metadata": {},
     "output_type": "display_data"
    },
    {
     "data": {
      "application/vnd.jupyter.widget-view+json": {
       "model_id": "e6a18d3d19cb47019e42724ee2cc898c",
       "version_major": 2,
       "version_minor": 0
      },
      "text/plain": [
       "eval           Batch     37:    0%|| 0/8 [00:00<?, ?ba/s]         "
      ]
     },
     "metadata": {},
     "output_type": "display_data"
    },
    {
     "data": {
      "application/vnd.jupyter.widget-view+json": {
       "model_id": "be0282ba2eb14b5b99be69550070e515",
       "version_major": 2,
       "version_minor": 0
      },
      "text/plain": [
       "eval           Batch     38:    0%|| 0/8 [00:00<?, ?ba/s]         "
      ]
     },
     "metadata": {},
     "output_type": "display_data"
    },
    {
     "data": {
      "application/vnd.jupyter.widget-view+json": {
       "model_id": "cf1a35703dc747c4aa2c2698f90c7bcd",
       "version_major": 2,
       "version_minor": 0
      },
      "text/plain": [
       "eval           Batch     39:    0%|| 0/8 [00:00<?, ?ba/s]         "
      ]
     },
     "metadata": {},
     "output_type": "display_data"
    },
    {
     "data": {
      "application/vnd.jupyter.widget-view+json": {
       "model_id": "739dffd6453149c3b16ba0132f6fcd37",
       "version_major": 2,
       "version_minor": 0
      },
      "text/plain": [
       "eval           Batch     40:    0%|| 0/8 [00:00<?, ?ba/s]         "
      ]
     },
     "metadata": {},
     "output_type": "display_data"
    },
    {
     "data": {
      "application/vnd.jupyter.widget-view+json": {
       "model_id": "468a81097ccd480abbfafb8c8d3471a5",
       "version_major": 2,
       "version_minor": 0
      },
      "text/plain": [
       "eval           Batch     41:    0%|| 0/8 [00:00<?, ?ba/s]         "
      ]
     },
     "metadata": {},
     "output_type": "display_data"
    },
    {
     "data": {
      "application/vnd.jupyter.widget-view+json": {
       "model_id": "82dc0c96a88543e4b1b70a78f566183c",
       "version_major": 2,
       "version_minor": 0
      },
      "text/plain": [
       "eval           Batch     42:    0%|| 0/8 [00:00<?, ?ba/s]         "
      ]
     },
     "metadata": {},
     "output_type": "display_data"
    },
    {
     "data": {
      "application/vnd.jupyter.widget-view+json": {
       "model_id": "df8729669cf4408fb2da1aef4c46fb40",
       "version_major": 2,
       "version_minor": 0
      },
      "text/plain": [
       "eval           Batch     43:    0%|| 0/8 [00:00<?, ?ba/s]         "
      ]
     },
     "metadata": {},
     "output_type": "display_data"
    },
    {
     "data": {
      "application/vnd.jupyter.widget-view+json": {
       "model_id": "fc7af30110974598a01c6de803d2c671",
       "version_major": 2,
       "version_minor": 0
      },
      "text/plain": [
       "eval           Batch     44:    0%|| 0/8 [00:00<?, ?ba/s]         "
      ]
     },
     "metadata": {},
     "output_type": "display_data"
    },
    {
     "data": {
      "application/vnd.jupyter.widget-view+json": {
       "model_id": "0dbfdb400c894472a60e244631ee105a",
       "version_major": 2,
       "version_minor": 0
      },
      "text/plain": [
       "eval           Batch     45:    0%|| 0/8 [00:00<?, ?ba/s]         "
      ]
     },
     "metadata": {},
     "output_type": "display_data"
    },
    {
     "data": {
      "application/vnd.jupyter.widget-view+json": {
       "model_id": "bee37d3c79534108aae2e782b96b88b3",
       "version_major": 2,
       "version_minor": 0
      },
      "text/plain": [
       "eval           Batch     46:    0%|| 0/8 [00:00<?, ?ba/s]         "
      ]
     },
     "metadata": {},
     "output_type": "display_data"
    },
    {
     "data": {
      "application/vnd.jupyter.widget-view+json": {
       "model_id": "fb31795a191445ae8c23eda0c3bb894b",
       "version_major": 2,
       "version_minor": 0
      },
      "text/plain": [
       "eval           Batch     47:    0%|| 0/8 [00:00<?, ?ba/s]         "
      ]
     },
     "metadata": {},
     "output_type": "display_data"
    },
    {
     "data": {
      "application/vnd.jupyter.widget-view+json": {
       "model_id": "0a51ab1f5e2e4b7b893ea56fd5403dd0",
       "version_major": 2,
       "version_minor": 0
      },
      "text/plain": [
       "eval           Batch     48:    0%|| 0/8 [00:00<?, ?ba/s]         "
      ]
     },
     "metadata": {},
     "output_type": "display_data"
    },
    {
     "data": {
      "application/vnd.jupyter.widget-view+json": {
       "model_id": "6f4d4b082a5b45ef9b313012dbe048cf",
       "version_major": 2,
       "version_minor": 0
      },
      "text/plain": [
       "eval           Batch     49:    0%|| 0/8 [00:00<?, ?ba/s]         "
      ]
     },
     "metadata": {},
     "output_type": "display_data"
    },
    {
     "data": {
      "application/vnd.jupyter.widget-view+json": {
       "model_id": "efeae47752194f5f807c5064274d74dd",
       "version_major": 2,
       "version_minor": 0
      },
      "text/plain": [
       "eval           Batch     50:    0%|| 0/8 [00:00<?, ?ba/s]         "
      ]
     },
     "metadata": {},
     "output_type": "display_data"
    },
    {
     "data": {
      "application/vnd.jupyter.widget-view+json": {
       "model_id": "aaf76ade5b4044a1bf7edddcadad35c4",
       "version_major": 2,
       "version_minor": 0
      },
      "text/plain": [
       "eval           Batch     51:    0%|| 0/8 [00:00<?, ?ba/s]         "
      ]
     },
     "metadata": {},
     "output_type": "display_data"
    },
    {
     "data": {
      "application/vnd.jupyter.widget-view+json": {
       "model_id": "090251b22d5d430cbb229f0815bb6672",
       "version_major": 2,
       "version_minor": 0
      },
      "text/plain": [
       "eval           Batch     52:    0%|| 0/8 [00:00<?, ?ba/s]         "
      ]
     },
     "metadata": {},
     "output_type": "display_data"
    },
    {
     "data": {
      "application/vnd.jupyter.widget-view+json": {
       "model_id": "881d834e6fe94c3183fb031b08e96896",
       "version_major": 2,
       "version_minor": 0
      },
      "text/plain": [
       "eval           Batch     53:    0%|| 0/8 [00:00<?, ?ba/s]         "
      ]
     },
     "metadata": {},
     "output_type": "display_data"
    },
    {
     "data": {
      "application/vnd.jupyter.widget-view+json": {
       "model_id": "4984cc32acd04060b2e5e7ad43b8fc4b",
       "version_major": 2,
       "version_minor": 0
      },
      "text/plain": [
       "eval           Batch     54:    0%|| 0/8 [00:00<?, ?ba/s]         "
      ]
     },
     "metadata": {},
     "output_type": "display_data"
    },
    {
     "data": {
      "application/vnd.jupyter.widget-view+json": {
       "model_id": "a064eff76fb240b6bc68d0e3f8ce2bd2",
       "version_major": 2,
       "version_minor": 0
      },
      "text/plain": [
       "eval           Batch     55:    0%|| 0/8 [00:00<?, ?ba/s]         "
      ]
     },
     "metadata": {},
     "output_type": "display_data"
    },
    {
     "data": {
      "application/vnd.jupyter.widget-view+json": {
       "model_id": "94afd0c4079d46beb1b16353f269ad4a",
       "version_major": 2,
       "version_minor": 0
      },
      "text/plain": [
       "eval           Batch     56:    0%|| 0/8 [00:00<?, ?ba/s]         "
      ]
     },
     "metadata": {},
     "output_type": "display_data"
    },
    {
     "data": {
      "application/vnd.jupyter.widget-view+json": {
       "model_id": "c78002a5a6b54644801abdf8d9a8c9bc",
       "version_major": 2,
       "version_minor": 0
      },
      "text/plain": [
       "eval           Batch     57:    0%|| 0/8 [00:00<?, ?ba/s]         "
      ]
     },
     "metadata": {},
     "output_type": "display_data"
    },
    {
     "data": {
      "application/vnd.jupyter.widget-view+json": {
       "model_id": "0929ad3b8bdc437c803cc64976ab813e",
       "version_major": 2,
       "version_minor": 0
      },
      "text/plain": [
       "eval           Batch     58:    0%|| 0/8 [00:00<?, ?ba/s]         "
      ]
     },
     "metadata": {},
     "output_type": "display_data"
    },
    {
     "data": {
      "application/vnd.jupyter.widget-view+json": {
       "model_id": "eefec4674f7d4f589200099d26713d2c",
       "version_major": 2,
       "version_minor": 0
      },
      "text/plain": [
       "eval           Batch     59:    0%|| 0/8 [00:00<?, ?ba/s]         "
      ]
     },
     "metadata": {},
     "output_type": "display_data"
    },
    {
     "data": {
      "application/vnd.jupyter.widget-view+json": {
       "model_id": "3103156f0b3143b4bc11396bfae059f5",
       "version_major": 2,
       "version_minor": 0
      },
      "text/plain": [
       "eval           Batch     60:    0%|| 0/8 [00:00<?, ?ba/s]         "
      ]
     },
     "metadata": {},
     "output_type": "display_data"
    },
    {
     "data": {
      "application/vnd.jupyter.widget-view+json": {
       "model_id": "1a97a7addb93433488c71777a6e3a565",
       "version_major": 2,
       "version_minor": 0
      },
      "text/plain": [
       "eval           Batch     61:    0%|| 0/8 [00:00<?, ?ba/s]         "
      ]
     },
     "metadata": {},
     "output_type": "display_data"
    },
    {
     "data": {
      "application/vnd.jupyter.widget-view+json": {
       "model_id": "6a53a447e75e42c98402c1fc40ee9b4c",
       "version_major": 2,
       "version_minor": 0
      },
      "text/plain": [
       "eval           Batch     62:    0%|| 0/8 [00:00<?, ?ba/s]         "
      ]
     },
     "metadata": {},
     "output_type": "display_data"
    },
    {
     "data": {
      "application/vnd.jupyter.widget-view+json": {
       "model_id": "c69c1cfa40d5480da8c29bd130eaef5f",
       "version_major": 2,
       "version_minor": 0
      },
      "text/plain": [
       "eval           Batch     63:    0%|| 0/8 [00:00<?, ?ba/s]         "
      ]
     },
     "metadata": {},
     "output_type": "display_data"
    },
    {
     "data": {
      "application/vnd.jupyter.widget-view+json": {
       "model_id": "d164cf11aecb4f4c99c3ff8753163bbe",
       "version_major": 2,
       "version_minor": 0
      },
      "text/plain": [
       "eval           Batch     64:    0%|| 0/8 [00:00<?, ?ba/s]         "
      ]
     },
     "metadata": {},
     "output_type": "display_data"
    },
    {
     "data": {
      "application/vnd.jupyter.widget-view+json": {
       "model_id": "3b25b69240c547ac994810a22865bbe8",
       "version_major": 2,
       "version_minor": 0
      },
      "text/plain": [
       "eval           Batch     65:    0%|| 0/8 [00:00<?, ?ba/s]         "
      ]
     },
     "metadata": {},
     "output_type": "display_data"
    },
    {
     "data": {
      "application/vnd.jupyter.widget-view+json": {
       "model_id": "1f694f269fc44d0cb02bcd8ea571d6d4",
       "version_major": 2,
       "version_minor": 0
      },
      "text/plain": [
       "eval           Batch     66:    0%|| 0/8 [00:00<?, ?ba/s]         "
      ]
     },
     "metadata": {},
     "output_type": "display_data"
    },
    {
     "data": {
      "application/vnd.jupyter.widget-view+json": {
       "model_id": "f3558aee07a44fc48766e06a85b33694",
       "version_major": 2,
       "version_minor": 0
      },
      "text/plain": [
       "eval           Batch     67:    0%|| 0/8 [00:00<?, ?ba/s]         "
      ]
     },
     "metadata": {},
     "output_type": "display_data"
    },
    {
     "data": {
      "application/vnd.jupyter.widget-view+json": {
       "model_id": "cf3d1a6d0b9c46bc865dc9c140756c05",
       "version_major": 2,
       "version_minor": 0
      },
      "text/plain": [
       "eval           Batch     68:    0%|| 0/8 [00:00<?, ?ba/s]         "
      ]
     },
     "metadata": {},
     "output_type": "display_data"
    },
    {
     "data": {
      "application/vnd.jupyter.widget-view+json": {
       "model_id": "8cdbb17fe5914f2d9110a2f2b70f0d47",
       "version_major": 2,
       "version_minor": 0
      },
      "text/plain": [
       "eval           Batch     69:    0%|| 0/8 [00:00<?, ?ba/s]         "
      ]
     },
     "metadata": {},
     "output_type": "display_data"
    },
    {
     "data": {
      "application/vnd.jupyter.widget-view+json": {
       "model_id": "c83334bd696a4990a48b2b4c126e7808",
       "version_major": 2,
       "version_minor": 0
      },
      "text/plain": [
       "eval           Batch     70:    0%|| 0/8 [00:00<?, ?ba/s]         "
      ]
     },
     "metadata": {},
     "output_type": "display_data"
    },
    {
     "data": {
      "application/vnd.jupyter.widget-view+json": {
       "model_id": "49e9e3a54406407682d22b1e4f482fb8",
       "version_major": 2,
       "version_minor": 0
      },
      "text/plain": [
       "eval           Batch     71:    0%|| 0/8 [00:00<?, ?ba/s]         "
      ]
     },
     "metadata": {},
     "output_type": "display_data"
    },
    {
     "data": {
      "application/vnd.jupyter.widget-view+json": {
       "model_id": "8af54b1c7181407dbc53f583d54bd9ac",
       "version_major": 2,
       "version_minor": 0
      },
      "text/plain": [
       "eval           Batch     72:    0%|| 0/8 [00:00<?, ?ba/s]         "
      ]
     },
     "metadata": {},
     "output_type": "display_data"
    },
    {
     "data": {
      "application/vnd.jupyter.widget-view+json": {
       "model_id": "9a6600bd75514369963403a806e38335",
       "version_major": 2,
       "version_minor": 0
      },
      "text/plain": [
       "eval           Batch     73:    0%|| 0/8 [00:00<?, ?ba/s]         "
      ]
     },
     "metadata": {},
     "output_type": "display_data"
    },
    {
     "data": {
      "application/vnd.jupyter.widget-view+json": {
       "model_id": "8786ca6abe434ee8baa16b216230724e",
       "version_major": 2,
       "version_minor": 0
      },
      "text/plain": [
       "eval           Batch     74:    0%|| 0/8 [00:00<?, ?ba/s]         "
      ]
     },
     "metadata": {},
     "output_type": "display_data"
    },
    {
     "data": {
      "application/vnd.jupyter.widget-view+json": {
       "model_id": "4094554cfa724918ab785b94c5b19a3c",
       "version_major": 2,
       "version_minor": 0
      },
      "text/plain": [
       "eval           Batch     75:    0%|| 0/8 [00:00<?, ?ba/s]         "
      ]
     },
     "metadata": {},
     "output_type": "display_data"
    },
    {
     "data": {
      "application/vnd.jupyter.widget-view+json": {
       "model_id": "20ae4fb5625c4ee7950ba15a8ba4388b",
       "version_major": 2,
       "version_minor": 0
      },
      "text/plain": [
       "eval           Batch     76:    0%|| 0/8 [00:00<?, ?ba/s]         "
      ]
     },
     "metadata": {},
     "output_type": "display_data"
    },
    {
     "data": {
      "application/vnd.jupyter.widget-view+json": {
       "model_id": "b0ef30bf96a647be98cffac91d9c4bb8",
       "version_major": 2,
       "version_minor": 0
      },
      "text/plain": [
       "eval           Batch     77:    0%|| 0/8 [00:00<?, ?ba/s]         "
      ]
     },
     "metadata": {},
     "output_type": "display_data"
    },
    {
     "data": {
      "application/vnd.jupyter.widget-view+json": {
       "model_id": "f1843a2ae08543c781c00e632f1205e1",
       "version_major": 2,
       "version_minor": 0
      },
      "text/plain": [
       "eval           Batch     78:    0%|| 0/8 [00:00<?, ?ba/s]         "
      ]
     },
     "metadata": {},
     "output_type": "display_data"
    },
    {
     "data": {
      "application/vnd.jupyter.widget-view+json": {
       "model_id": "3b2430a45958430c988515d6a1cea6ca",
       "version_major": 2,
       "version_minor": 0
      },
      "text/plain": [
       "eval           Batch     79:    0%|| 0/8 [00:00<?, ?ba/s]         "
      ]
     },
     "metadata": {},
     "output_type": "display_data"
    },
    {
     "data": {
      "application/vnd.jupyter.widget-view+json": {
       "model_id": "ddb5074fca56424ca96090022a33c47d",
       "version_major": 2,
       "version_minor": 0
      },
      "text/plain": [
       "eval           Batch     80:    0%|| 0/8 [00:00<?, ?ba/s]         "
      ]
     },
     "metadata": {},
     "output_type": "display_data"
    },
    {
     "data": {
      "application/vnd.jupyter.widget-view+json": {
       "model_id": "93b099040a814afc9e62a9be2b8d7e79",
       "version_major": 2,
       "version_minor": 0
      },
      "text/plain": [
       "eval           Batch     81:    0%|| 0/8 [00:00<?, ?ba/s]         "
      ]
     },
     "metadata": {},
     "output_type": "display_data"
    },
    {
     "data": {
      "application/vnd.jupyter.widget-view+json": {
       "model_id": "495b953ea547417abe6f8e2880bcf961",
       "version_major": 2,
       "version_minor": 0
      },
      "text/plain": [
       "eval           Batch     82:    0%|| 0/8 [00:00<?, ?ba/s]         "
      ]
     },
     "metadata": {},
     "output_type": "display_data"
    },
    {
     "data": {
      "application/vnd.jupyter.widget-view+json": {
       "model_id": "0edd0a9d69c4412aa445a774c656e67e",
       "version_major": 2,
       "version_minor": 0
      },
      "text/plain": [
       "eval           Batch     83:    0%|| 0/8 [00:00<?, ?ba/s]         "
      ]
     },
     "metadata": {},
     "output_type": "display_data"
    },
    {
     "data": {
      "application/vnd.jupyter.widget-view+json": {
       "model_id": "67d2d33954074019a224bf20509ba974",
       "version_major": 2,
       "version_minor": 0
      },
      "text/plain": [
       "eval           Batch     84:    0%|| 0/8 [00:00<?, ?ba/s]         "
      ]
     },
     "metadata": {},
     "output_type": "display_data"
    },
    {
     "data": {
      "application/vnd.jupyter.widget-view+json": {
       "model_id": "af12c06ee6534622979d5fd7a74d34c1",
       "version_major": 2,
       "version_minor": 0
      },
      "text/plain": [
       "eval           Batch     85:    0%|| 0/8 [00:00<?, ?ba/s]         "
      ]
     },
     "metadata": {},
     "output_type": "display_data"
    },
    {
     "data": {
      "application/vnd.jupyter.widget-view+json": {
       "model_id": "e1043f2d4a2a4c26a3a7ec91f9ca5d4b",
       "version_major": 2,
       "version_minor": 0
      },
      "text/plain": [
       "eval           Batch     86:    0%|| 0/8 [00:00<?, ?ba/s]         "
      ]
     },
     "metadata": {},
     "output_type": "display_data"
    },
    {
     "data": {
      "application/vnd.jupyter.widget-view+json": {
       "model_id": "fb8873b5d93a4df3a5cb86d814edd0df",
       "version_major": 2,
       "version_minor": 0
      },
      "text/plain": [
       "eval           Batch     87:    0%|| 0/8 [00:00<?, ?ba/s]         "
      ]
     },
     "metadata": {},
     "output_type": "display_data"
    },
    {
     "data": {
      "application/vnd.jupyter.widget-view+json": {
       "model_id": "40843fb00f0449b89b7efab2cbd0cdf0",
       "version_major": 2,
       "version_minor": 0
      },
      "text/plain": [
       "eval           Batch     88:    0%|| 0/8 [00:00<?, ?ba/s]         "
      ]
     },
     "metadata": {},
     "output_type": "display_data"
    },
    {
     "data": {
      "application/vnd.jupyter.widget-view+json": {
       "model_id": "9ebe3e07757346459124660ebc7dd324",
       "version_major": 2,
       "version_minor": 0
      },
      "text/plain": [
       "eval           Batch     89:    0%|| 0/8 [00:00<?, ?ba/s]         "
      ]
     },
     "metadata": {},
     "output_type": "display_data"
    },
    {
     "data": {
      "application/vnd.jupyter.widget-view+json": {
       "model_id": "cf34cc0bf8724b78afd796b7ab977f9a",
       "version_major": 2,
       "version_minor": 0
      },
      "text/plain": [
       "eval           Batch     90:    0%|| 0/8 [00:00<?, ?ba/s]         "
      ]
     },
     "metadata": {},
     "output_type": "display_data"
    },
    {
     "data": {
      "application/vnd.jupyter.widget-view+json": {
       "model_id": "4644e0ae63b7417f8257975ab4528cfd",
       "version_major": 2,
       "version_minor": 0
      },
      "text/plain": [
       "eval           Batch     91:    0%|| 0/8 [00:00<?, ?ba/s]         "
      ]
     },
     "metadata": {},
     "output_type": "display_data"
    },
    {
     "data": {
      "application/vnd.jupyter.widget-view+json": {
       "model_id": "b2fea9ccf44f42869901f2f2d71339e1",
       "version_major": 2,
       "version_minor": 0
      },
      "text/plain": [
       "eval           Batch     92:    0%|| 0/8 [00:00<?, ?ba/s]         "
      ]
     },
     "metadata": {},
     "output_type": "display_data"
    },
    {
     "data": {
      "application/vnd.jupyter.widget-view+json": {
       "model_id": "be38c63104534f0bb5393d59a1eb61f5",
       "version_major": 2,
       "version_minor": 0
      },
      "text/plain": [
       "eval           Batch     93:    0%|| 0/8 [00:00<?, ?ba/s]         "
      ]
     },
     "metadata": {},
     "output_type": "display_data"
    },
    {
     "data": {
      "application/vnd.jupyter.widget-view+json": {
       "model_id": "351d2e2539644cb39b177a4c2714aebc",
       "version_major": 2,
       "version_minor": 0
      },
      "text/plain": [
       "eval           Batch     94:    0%|| 0/8 [00:00<?, ?ba/s]         "
      ]
     },
     "metadata": {},
     "output_type": "display_data"
    },
    {
     "data": {
      "application/vnd.jupyter.widget-view+json": {
       "model_id": "ba47dca5d39a46efa5a40b3ef8dc9892",
       "version_major": 2,
       "version_minor": 0
      },
      "text/plain": [
       "eval           Batch     95:    0%|| 0/8 [00:00<?, ?ba/s]         "
      ]
     },
     "metadata": {},
     "output_type": "display_data"
    },
    {
     "data": {
      "application/vnd.jupyter.widget-view+json": {
       "model_id": "39cbeb64365f413997b39d00ae02480a",
       "version_major": 2,
       "version_minor": 0
      },
      "text/plain": [
       "eval           Batch     96:    0%|| 0/8 [00:00<?, ?ba/s]         "
      ]
     },
     "metadata": {},
     "output_type": "display_data"
    },
    {
     "data": {
      "application/vnd.jupyter.widget-view+json": {
       "model_id": "11bdf3f573dc4120bca67ecebd539d8a",
       "version_major": 2,
       "version_minor": 0
      },
      "text/plain": [
       "eval           Batch     97:    0%|| 0/8 [00:00<?, ?ba/s]         "
      ]
     },
     "metadata": {},
     "output_type": "display_data"
    },
    {
     "data": {
      "application/vnd.jupyter.widget-view+json": {
       "model_id": "fcca40e93d324dbdb3a42ff4d684ada6",
       "version_major": 2,
       "version_minor": 0
      },
      "text/plain": [
       "eval           Batch     98:    0%|| 0/8 [00:00<?, ?ba/s]         "
      ]
     },
     "metadata": {},
     "output_type": "display_data"
    },
    {
     "data": {
      "application/vnd.jupyter.widget-view+json": {
       "model_id": "98df13b1e9df4ed3879bce2dc9c7553d",
       "version_major": 2,
       "version_minor": 0
      },
      "text/plain": [
       "eval           Batch     99:    0%|| 0/8 [00:00<?, ?ba/s]         "
      ]
     },
     "metadata": {},
     "output_type": "display_data"
    },
    {
     "data": {
      "application/vnd.jupyter.widget-view+json": {
       "model_id": "7e42cabe05754611885d4c750948c802",
       "version_major": 2,
       "version_minor": 0
      },
      "text/plain": [
       "eval           Batch    100:    0%|| 0/8 [00:00<?, ?ba/s]         "
      ]
     },
     "metadata": {},
     "output_type": "display_data"
    },
    {
     "name": "stdout",
     "output_type": "stream",
     "text": [
      "It took 83.0117 seconds to train\n"
     ]
    }
   ],
   "source": [
    "import time\n",
    "start_time = time.perf_counter()\n",
    "trainer.fit() # <-- Your training loop in action!\n",
    "end_time = time.perf_counter()\n",
    "print(f\"It took {end_time - start_time:0.4f} seconds to train\")"
   ]
  },
  {
   "cell_type": "code",
   "execution_count": 42,
   "metadata": {},
   "outputs": [
    {
     "data": {
      "text/plain": [
       "dict_keys(['time/epoch', 'time/batch', 'time/sample', 'time/batch_in_epoch', 'time/sample_in_epoch', 'time/token', 'time/token_in_epoch', 'trainer/device_train_microbatch_size', 'loss/train/total', 'metrics/train/MaskedAccuracy', 'metrics/eval/MaskedAccuracy'])"
      ]
     },
     "execution_count": 42,
     "metadata": {},
     "output_type": "execute_result"
    }
   ],
   "source": [
    "logger.data.keys()"
   ]
  },
  {
   "cell_type": "code",
   "execution_count": null,
   "metadata": {},
   "outputs": [],
   "source": [
    "def sample(model, tokenizer, prompt, max_length=50, device='cpu'):\n",
    "    input_ids = tokenizer(prompt, return_tensors='pt').to(device)\n",
    "    model.eval()\n",
    "    output = model.generate(**input_ids, max_length=max_length, do_sample=True, top_k=50, top_p=0.95, temperature=0.8)\n",
    "    return tokenizer.decode(output[0], skip_special_tokens=True)"
   ]
  },
  {
   "cell_type": "code",
   "execution_count": null,
   "metadata": {},
   "outputs": [],
   "source": [
    "print(sample(my_model, tokenizer, \"Once upon a time\", max_length=500, device='cuda:0'))"
   ]
  },
  {
   "cell_type": "code",
   "execution_count": 47,
   "metadata": {},
   "outputs": [
    {
     "data": {
      "image/png": "[encoded data removed]",
      "text/plain": [
       "<Figure size 1000x600 with 1 Axes>"
      ]
     },
     "metadata": {},
     "output_type": "display_data"
    }
   ],
   "source": [
    "logger.data['metrics/eval/MaskedAccuracy']\n",
    "import matplotlib.pyplot as plt\n",
    "\n",
    "# Extract time and loss values\n",
    "time_values = []\n",
    "loss_values = []\n",
    "for t, v in logger.data['metrics/eval/MaskedAccuracy']:\n",
    "    time_values.append(t.batch.value)\n",
    "    loss_values.append(v.cpu())\n",
    "\n",
    "# Create the plot\n",
    "plt.figure(figsize=(10, 6))\n",
    "plt.plot(time_values, loss_values)\n",
    "plt.title('Training Loss')\n",
    "plt.xlabel('Batch')\n",
    "plt.ylabel('Loss')\n",
    "plt.grid(True)\n"
   ]
  },
  {
   "cell_type": "code",
   "execution_count": null,
   "metadata": {},
   "outputs": [],
   "source": [
    "metrics[0].sum_loss"
   ]
  },
  {
   "cell_type": "code",
   "execution_count": null,
   "metadata": {},
   "outputs": [],
   "source": [
    "!ls training/pretrain/"
   ]
  },
  {
   "cell_type": "code",
   "execution_count": null,
   "metadata": {},
   "outputs": [],
   "source": [
    "from composer.optim import DecoupledAdamW, CosineAnnealingWithWarmupScheduler\n",
    "from composer.loggers import InMemoryLogger\n",
    "from composer.metrics import MaskedAccuracy\n",
    "\n",
    "optim = DecoupledAdamW(my_model.parameters(), lr=2e-4, weight_decay=0.0001)\n",
    "lr_scheduler = CosineAnnealingWithWarmupScheduler(t_warmup='200ba', t_max=\"1dur\")\n",
    "\n",
    "logger = InMemoryLogger()\n",
    "\n",
    "trainer = Trainer(\n",
    "    model=my_model,\n",
    "    train_dataloader=dl_train, \n",
    "    eval_dataloader=eval_evaluator,\n",
    "    optimizers=optim,\n",
    "    schedulers=lr_scheduler,\n",
    "    max_duration=\"2ep\",\n",
    "    eval_interval='1000ba',\n",
    "    save_folder=\"training/pretrain/compile/\" + str(optim.param_groups[0]['lr']),\n",
    "    save_interval=\"5000ba\",\n",
    "    save_filename=\"hf_model.pt\",\n",
    "    save_overwrite=True,\n",
    "    device_train_microbatch_size='auto',\n",
    "    loggers=logger,\n",
    "    device='gpu',\n",
    "    precision='amp_bf16',\n",
    "    autoresume=True,\n",
    ")"
   ]
  },
  {
   "cell_type": "code",
   "execution_count": null,
   "metadata": {},
   "outputs": [],
   "source": []
  }
 ],
 "metadata": {
  "kernelspec": {
   "display_name": "Python 3 (ipykernel)",
   "language": "python",
   "name": "python3"
  },
  "language_info": {
   "codemirror_mode": {
    "name": "ipython",
    "version": 3
   },
   "file_extension": ".py",
   "mimetype": "text/x-python",
   "name": "python",
   "nbconvert_exporter": "python",
   "pygments_lexer": "ipython3",
   "version": "3.12.10"
  }
 },
 "nbformat": 4,
 "nbformat_minor": 4
}
